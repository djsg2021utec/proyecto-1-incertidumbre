{
  "nbformat": 4,
  "nbformat_minor": 0,
  "metadata": {
    "colab": {
      "provenance": []
    },
    "kernelspec": {
      "name": "python3",
      "display_name": "Python 3"
    },
    "language_info": {
      "name": "python"
    }
  },
  "cells": [
    {
      "cell_type": "markdown",
      "source": [
        "# Introduccion\n",
        "\n",
        "La iteración de política (Policy Iteration en inglés) es un algoritmo utilizado en el aprendizaje por refuerzo, específicamente en el contexto del Aprendizaje de Refuerzo basado en Valor (Value-Based Reinforcement Learning). Se utiliza para encontrar la política óptima en un entorno de toma de decisiones.\n",
        "\n",
        "A continuación se expondrá el código de implementación del algoritmo y su aplicación para el problema GridWorld. Este marco de trabajo se divide en 3 grandes etapas: Lectura (LecturaDeDatos), implementación del algoritmo (Algoritmo_Iteracion_Politica), visualización de los datos (VisualizacionDatos) y los experimentos con varias entradas."
      ],
      "metadata": {
        "id": "W3QvG_lTDIWo"
      }
    },
    {
      "cell_type": "markdown",
      "source": [
        "## Lectura de datos:\n",
        "\n",
        "Los datos fueron alojados en el repositorio https://github.com/djsg2021utec/proyecto-1-incertidumbre. Esta etapa tiene las siguientes tareas:\n",
        "\n",
        "1. Importar el archivo de github y convertirla en una lista de strings (url → fileContent).\n",
        "2. Modificar la lista quitándole espacios vacíos y saltos de línea (fileContent →  Gridworld_NotSpaces)"
      ],
      "metadata": {
        "id": "-wRdExqxD5uu"
      }
    },
    {
      "cell_type": "markdown",
      "source": [
        "### Implementación de funciones"
      ],
      "metadata": {
        "id": "QI612zWLHXx3"
      }
    },
    {
      "cell_type": "code",
      "source": [
        "# Se quitan los elementos innecesarios del archivo y se crea una lista con strings con las mismas dimensiones y sin espacios (GridWorld_NotSpaces)\n",
        "import requests\n",
        "  \n",
        "# Implementación de la función LecturaDeDatos.\n",
        "def LecturaDeDatos(url):\n",
        "  # 1. Importar el archivo de github y convertirla en una lista de strings (url → fileContent).\n",
        "  response = requests.get(url)\n",
        "  fileContent = response.text\n",
        "  # 2. Modificar la lista quitándole espacios vacíos y saltos de línea (fileContent →  Gridworld_NotSpaces)\n",
        "  fileContentSplitted = fileContent.split(\"\\n\")\n",
        "  Gridworld=fileContentSplitted[2:-1]\n",
        "  def RemoveSpace(StringWorld):\n",
        "      StringWorld=StringWorld.replace(\" \",\"\")\n",
        "      return StringWorld\n",
        "\n",
        "  result = map(RemoveSpace,Gridworld)\n",
        "  Gridworld_NotSpaces = list(result)\n",
        "  # for rows in Gridworld_NotSpaces:\n",
        "  #   print(rows)\n",
        "  return Gridworld_NotSpaces\n"
      ],
      "metadata": {
        "id": "5jgrW1MOFfvv"
      },
      "execution_count": null,
      "outputs": []
    },
    {
      "cell_type": "markdown",
      "source": [
        "### Ejecución "
      ],
      "metadata": {
        "id": "F5OTAYa7HZ8t"
      }
    },
    {
      "cell_type": "code",
      "execution_count": null,
      "metadata": {
        "id": "ZemdUeQK5uYI",
        "colab": {
          "base_uri": "https://localhost:8080/"
        },
        "outputId": "63aae3ef-b418-48f1-b15b-da26ea277f9d"
      },
      "outputs": [
        {
          "output_type": "stream",
          "name": "stdout",
          "text": [
            "↓↓↓↓↓↓↓↓↓↓→→→→→→→→↓↓↓↓↓↓↓↓↓↓□↓↓↓↓↓↓→→→→↓\r\n",
            "↓←←←←←←←←←□↓↓↓↓□↓↓↓←←←←←←←←←←←←←←←←□↓↓↓↓\r\n",
            "↓↓□↓↑↑□↑↑↑←←←←←←←←←□↑□↑↑↑↑↑↑↑↑↑□↑□↑←←←←←\r\n",
            "→→→↓□↓↓↓↓↓↓↓↓□↓↓↓↓↓↓→→→→→→↓↓□↓↓↓↓↓↑↑↑□↑↑\r\n",
            "□↑□→→→→→→→→→→→→→→→→↓←↑↑□↑□→→→→→→→→→→→→→↑\r\n",
            "→↑↓↓↓↓□↓↓↓↓↓↓↓↓↓↑↑□↓↓□↓↓↓↓↓↓↓↑↑↑↑↑↑↑↑↑□↑\r\n",
            "↓□↓←←←←←←←←←←←←←□↓↓→→→→→→→→→↓↓↓□↑←↓↓↓↓↓↓\r\n",
            "↓←←□↑↑↑↑↑↑↑↑□↑↑↑←←←□↓↓↓↓↑↑↑□→→→↓↓□→→→→→↓\r\n",
            "↓↓↓↓↓↓↓→→→→→→↓↓↑□↑↑←←←←←□↓↓↓↓↓↓→→→↑↑□↑□↓\r\n",
            "→→→→→→↓↓↓↑↑↑□→→→→→↑↑↑↑↑↑←←←←←←←□↓□↓↓↓↓↓↓\r\n",
            "↑↑↑↑↑□→→↓↓↓↓↓↓□↓↓↓□→→→→↑↑↑↑↑↑↑↑←←←←←←←←←\r\n",
            "↓↓↓↓↓↓↓↓→→→→→→→→→↓↓↓↓□↓↓↓□↓↓↓□↓↓↓↓□↑↑□↑↑\r\n",
            "↓←←←←←←←□↓↓□↓↓↓□↓→→→→→→→→→→→→→→→→→↓↓↓↓↓↓\r\n",
            "↓↓□↑↑↑□↑←←←←←←←←←□↓□↓↓↓↓↑↑↑□↑□↑↑↑□→→→→→↓\r\n",
            "→↓←↑↓↓↓↓↓↓↓↑↑↑□↑↑←←←←←←←□↓↓↓↓↓↓↓↑↓↓↓↓↓□↓\r\n",
            "□↓↓□→→→→→→↓□→→→→↑↑↑↑□↑↑↑←←←←←←←←□↓←←←←←←\r\n",
            "→→→→↑↑↑↑↑□↓↓↓↓□↓↓↓↓↓↓↓↓↑↑↓↓□↓□↓↑←←□↑↑↑↑↑\r\n",
            "↓↓↓↓□↓↓↓↓↓→→→→→→→→→→→→↓↓□→→→→→↓↓↓↓↓↓↓→→↑\r\n",
            "→→→→→→→→→G←□↑↑↑↑□↑□↑↑□→→→↑↑↑↑□→→→→→→↓←□↑\r\n",
            "↑↑↑□↑↑↑□↑↑↓↓↓↓↓↓↓↓↓↓↓↓↓↓↓↓↓▼↓→↑↑↑↑↑□↓↓↓↓\r\n",
            "↑←←←←←←←←←←←←←←←←←←←←←←←←←←←←□↓↓□↓↓↓→→→↓\r\n",
            "↑↑↑□↑□↑↑↑↑↑□↑□↑↑↑↑↑↑↑↑□↑↑□↑□↑←←←←←←←□↓□↓\r\n",
            "→→→→→→→→↓□↓↓→→→↓□↓↓↓↓↓↓↓↓↓↓↓↑↑↑↑↑□↑↑←←←←\r\n",
            "↑↑□↓↓↓↓↓↓↓←←□↓□↓↓←←←←←←←←←←←←←←←←↓↓□↑↑↑↑\r\n",
            "□↓↓↓←←←←←←□↑←←←←←↓↓↓↓↓□↓↓□↓□↓↓↓↓□→→→→→→↑\r\n",
            "↓←←←□↑↑↓↓↓↓↓↓↓↓↓□→→→→→→→→→→→→→→→→↑↑↑↑↑↑↑\r\n",
            "↓↓↓↓↓↓□→→→→→→→→→→↑↑↑↑↑□↑↑↑↑↑↑↑↑↑↑↑↓↓↓↓→↓\r\n",
            "→→→→→→→↑↑□↑↑↑□↑↑□↑↓↓↓↓↓↓↓←←←□↓↓↓□↓←←←←□↓\r\n",
            "↑□↑↑↑↑↑↑↓↓↓↓↓↓↓↓↓↓↓←←←←←←↓↓↓←←←←←←□↑□↑←←\r\n",
            "↑←←←□↓→→→→→→→→→→→→↓↓↓↓↓↓□→→↓↓↓□↓↓↓↓→→↑↑↑\r\n",
            "↑↑↑↑←←□↓↓↓↓□↓↑↑↑↑□→→→→→→→↑□→→→→→→→↓↓□↓↓↓\r\n",
            "↓←←↑↑↑←←←←←←←□↓↓↓↓↓↓↓↓□↓↓↓↓↓↓↑↑↑↑□→→→→→↓\r\n",
            "↓□↑□↓↑↑↑↑↑□↑↑←←←←←←←←←←←←←←←←□↓↓↓↓↓□↓↓↓↓\r\n",
            "↓↓↓↓↓□↓↓□↓↓↓↑□↑↑↑↑□↑↑↑↑↑↑↑↑↑↑←←←←←←←←←←←\r\n",
            "→→→→→→→→→→→→→→→↓□↓↓↓↓□↓□↓→↓←↑↑↑↑□↑↑↑↑↑↑↑\r\n",
            "↑↑↓□↓□↓↓↑↑↑↑↑↑□→→→→→↓↓←←←□↓□↓↓↓←←↓↓↓□→↑□\r\n",
            "↓↓↓←←←←←□↓□↓↓↓↓↓↓↓↓↓↓←□↑↑←←←←←←↓□→→→→↑↑↓\r\n",
            "↓←←□↑↑↑↑←←←←←←←←←←←←←↓↓↓↓↓↓↓↓↓□→→↑↑↑↑↑→↓\r\n",
            "↓↓↓↓↓↓↓□↓↓↓↓↓↓↓↓↓□↓↓□→→→→→→→→→→↑↑□↓↓↓↓↓↓\r\n",
            "→→→→→→→→→→→→→→→→→→→→→↑□↑↑□↑↑↑↑□↑←←←←←←←←\r\n"
          ]
        }
      ],
      "source": [
        "# FIXED INITIAL STATE\n",
        "\n",
        "# url = \"https://raw.githubusercontent.com/djsg2021utec/proyecto-1-incertidumbre/main/PoliticasFixedRandom/FixedGoalInitialState/navigation_1.net_grid.txt\"\n",
        "\n",
        "# RANDOM INITIAL STATE\n",
        "\n",
        "# url=\"https://raw.githubusercontent.com/djsg2021utec/proyecto-1-incertidumbre/main/PoliticasFixedRandom/RandomGoalInitialState/navigation_1.net_grid.txt\"\n",
        "\n",
        "# Tipos de Grid\n",
        "#  4x4: prueba4x4.net_grid.txt (Prueba)\n",
        "#  20x20: navigation_1.net_grid.txt\n",
        "#  40x40: navigation_2.net_grid.txt\n",
        "#  60x60: navigation_3.net_grid.txt\n",
        "#  80x80: navigation_4.net_grid.txt\n",
        "#  100x100: navigation_5.net_grid.txt\n",
        "#  120x120: navigation_6.net_grid.txt\n",
        "#  140x140: navigation_7.net_grid.txt\n",
        "#  160x160: navigation_8.net_grid.txt\n",
        "#  180x180: navigation_9.net_grid.txt\n",
        "url=\"https://raw.githubusercontent.com/djsg2021utec/proyecto-1-incertidumbre/main/PoliticasFixedRandom/RandomGoalInitialState/navigation_2.net_grid.txt\"\n",
        "Gridworld_NotSpaces = LecturaDeDatos(url)"
      ]
    },
    {
      "cell_type": "markdown",
      "source": [
        "## Implementación del algoritmo:\n",
        "\n",
        "Esta etapa tiene las siguientes tareas:\n",
        "\n",
        "1. Definir las acciones válidas, los estados iniciales, estado final y el diccionario de movimientos.\n",
        "2. Implementar las funciones complementarias al algoritmo\n",
        "3. Implementación de la función del algoritmo de Iteración de Política que genere el espacio de estados optimizados **(GridWorldOptimizado)**, el diccionario con la información de los estados **(dict_estados)**, la lista que guarda la media de la variación entre políticas en cada iteración **(deltas)**, el número de iteraciones **(numero_iteraciones)** y el tiempo transcurrido para ejecutar todo el algoritmo **(tiempo_transcurrido)**."
      ],
      "metadata": {
        "id": "9fZUk47JH_FP"
      }
    },
    {
      "cell_type": "markdown",
      "source": [
        "### Definicion"
      ],
      "metadata": {
        "id": "SkU0v76JLY7T"
      }
    },
    {
      "cell_type": "code",
      "source": [
        "# Se definen las acciones validas, estados iniciales, estado final y un diccionario de movimientos\n",
        "acciones_validas = ['→','←','↑','↓','□']\n",
        "estados_iniciales = [ '▶','◀','▲','▼'] # ▲\n",
        "estado_final = 'G'\n",
        "diccionario_movimientos = {'→': [0, 1], '←':[0, -1], '↑': [-1, 0], '↓':[1, 0],\n",
        "                           '▶': [0, 1], '◀':[0, -1],'▲':[-1, 0], '▼': [1, 0],\n",
        "                           '>':[0, 1], '<': [0, -1], '^':[-1, 0], '˅': [1, 0]}\n"
      ],
      "metadata": {
        "id": "nzS-UXB-VGpE"
      },
      "execution_count": null,
      "outputs": []
    },
    {
      "cell_type": "markdown",
      "source": [
        "### Implementacion"
      ],
      "metadata": {
        "id": "rmcTaF7dLbIK"
      }
    },
    {
      "cell_type": "code",
      "source": [
        "# Se importan librerías para una manejo más fácil\n",
        "import numpy as np\n",
        "import time\n",
        "\n",
        "# Funciones para definir parámetros geométricos en el Grid\n",
        "def horizontal_line(begin, end, y):\n",
        "    return [(i, y) for i in range(begin, end, (1 if end > begin else -1))]\n",
        "\n",
        "def vertical_line(begin, end, x):\n",
        "    return [(x, i) for i in range(begin, end, (1 if end > begin else -1))]\n",
        "\n",
        "def layer(center, level):\n",
        "    center_x, center_y = center\n",
        "    right_bottom = vertical_line(center_y, center_y + level, center_x + level)\n",
        "    bottom_line = horizontal_line(center_x + level, center_x - level, center_y + level)\n",
        "    left_line = vertical_line(center_y + level, center_y - level, center_x - level)\n",
        "    top_line = horizontal_line(center_x - level, center_x + level, center_y - level)\n",
        "    right_top = vertical_line(center_y-level, center_y, center_x + level)\n",
        "\n",
        "    return right_bottom + bottom_line + left_line + top_line + right_top\n",
        "\n",
        "def layers(center, number_levels):\n",
        "    return [layer(center, level) for level in range(1, number_levels)]\n",
        "\n",
        "def all_layers(center, number_levels):\n",
        "    return [cell for single_layer in layers(center, number_levels) for cell in single_layer]\n",
        "\n",
        "# Función para validar una coordenada\n",
        "def validar_coordenada(coordenada_in):\n",
        "    if coordenada_in[0] >=0 and coordenada_in[1] < len(Gridworld_NotSpaces):\n",
        "        if coordenada_in[1] >= 0 and coordenada_in[0] < len(Gridworld_NotSpaces):\n",
        "            if Gridworld_NotSpaces[coordenada_in[0]][coordenada_in[1]] != \"□\":\n",
        "                return True\n",
        "    \n",
        "    return False\n",
        "\n",
        "# Función para obtener coordenadas validas vecinas para un estado\n",
        "def getCoordenadasValidas(coordendas_in):\n",
        "    coordenadas_vecinas = []\n",
        "    coord_up = [coordendas_in[0] - 1, coordendas_in[1]]\n",
        "    coord_down = [coordendas_in[0] + 1, coordendas_in[1]]\n",
        "    coord_right = [coordendas_in[0], coordendas_in[1] + 1]\n",
        "    coord_left = [coordendas_in[0], coordendas_in[1] - 1]\n",
        "    \n",
        "    # arriba\n",
        "    if validar_coordenada(coord_up):\n",
        "        if Gridworld_NotSpaces[coord_up[0]][coord_up[1]] != \"□\":\n",
        "            coordenadas_vecinas.append(coord_up)\n",
        "\n",
        "    # abajo\n",
        "    if validar_coordenada(coord_down):\n",
        "        if Gridworld_NotSpaces[coord_down[0]][coord_down[1]] != \"□\":\n",
        "            coordenadas_vecinas.append(coord_down)\n",
        "\n",
        "    # derecha\n",
        "    if validar_coordenada(coord_right):\n",
        "        if Gridworld_NotSpaces[coord_right[0]][coord_right[1]] != \"□\":\n",
        "            coordenadas_vecinas.append(coord_right)\n",
        "\n",
        "    # izquierda   \n",
        "    if validar_coordenada(coord_left):\n",
        "        if Gridworld_NotSpaces[coord_left[0]][coord_left[1]] != \"□\":\n",
        "            coordenadas_vecinas.append(coord_right)\n",
        "\n",
        "    return coordenadas_vecinas\n",
        "\n",
        "# Función para obtener el valor inicial para cada estado\n",
        "def getAccionInicial(coordenadas_in):\n",
        "    if Gridworld_NotSpaces[coordenadas_in[0]][coordenadas_in[1]] != \"□\":\n",
        "        return Gridworld_NotSpaces[coordenadas_in[0]][coordenadas_in[1]]\n",
        "    return Gridworld_NotSpaces[coordenadas_in[0]][coordenadas_in[1]]\n",
        "\n",
        "# Función para obtener las coordenadas del estado inicial en el GridWorld\n",
        "def getCoordInicial(Gridworld_NotSpaces):\n",
        "  for i in range(len(Gridworld_NotSpaces)):\n",
        "    for j in range(len(Gridworld_NotSpaces)):\n",
        "      if list(Gridworld_NotSpaces[i])[j] in estados_iniciales:\n",
        "        coord_inicial = (i,j)\n",
        "  return coord_inicial\n",
        "\n",
        "# Función para obtener las coordenadas del estado meta o final en el GridWorld\n",
        "def getCoordFinal(Gridworld_NotSpaces):\n",
        "  for i in range(len(Gridworld_NotSpaces)):\n",
        "    for j in range(len(Gridworld_NotSpaces)):\n",
        "      if list(Gridworld_NotSpaces[i])[j] == 'G':\n",
        "        coord_final = (i,j)\n",
        "  return coord_final\n",
        "\n",
        "# Función para obtener coordenadas validas vecinas para un estado\n",
        "def getMovimientosValidos(coordendas_in):\n",
        "    movimientos_validos = []\n",
        "    coord_up = [coordendas_in[0] - 1, coordendas_in[1]]\n",
        "    coord_down = [coordendas_in[0] + 1, coordendas_in[1]]\n",
        "    coord_right = [coordendas_in[0], coordendas_in[1] + 1]\n",
        "    coord_left = [coordendas_in[0], coordendas_in[1] - 1]\n",
        "    \n",
        "    # arriba\n",
        "    if validar_coordenada(coord_up):\n",
        "        if Gridworld_NotSpaces[coord_up[0]][coord_up[1]] != \"□\":\n",
        "            movimientos_validos.append(Gridworld_NotSpaces[coord_up[0]][coord_up[1]])\n",
        "\n",
        "    # abajo\n",
        "    if validar_coordenada(coord_down):\n",
        "        if Gridworld_NotSpaces[coord_down[0]][coord_down[1]] != \"□\":\n",
        "            movimientos_validos.append(Gridworld_NotSpaces[coord_down[0]][coord_down[1]])\n",
        "\n",
        "    # derecha\n",
        "    if validar_coordenada(coord_right):\n",
        "        if Gridworld_NotSpaces[coord_right[0]][coord_right[1]] != \"□\":\n",
        "            movimientos_validos.append(Gridworld_NotSpaces[coord_right[0]][coord_right[1]])\n",
        "\n",
        "    # izquierda   \n",
        "    if validar_coordenada(coord_left):\n",
        "        if Gridworld_NotSpaces[coord_left[0]][coord_left[1]] != \"□\":\n",
        "            movimientos_validos.append(Gridworld_NotSpaces[coord_left[0]][coord_left[1]])\n",
        "\n",
        "    return movimientos_validos\n",
        "\n",
        "# Función para construir el diccionario para todos los estados del GridWorld\n",
        "def construir_diccionario(Gridworld_NotSpaces):\n",
        "  dict_estados = {}\n",
        "  index_row = 0\n",
        "  for i in range(len(Gridworld_NotSpaces)):\n",
        "      index_column = 0\n",
        "      for j in range(len(Gridworld_NotSpaces)):\n",
        "          valor_nodo = float(\"inf\")\n",
        "          dict_key = str(index_row) +\"-\" +str(index_column)\n",
        "          coordenadas = [index_row, index_column]\n",
        "          if Gridworld_NotSpaces[index_row][index_column] == \"G\":\n",
        "              #dict_key = \"EstadoFinal\" \n",
        "              valor_nodo = 0\n",
        "          dict_estados[dict_key] = [coordenadas, getAccionInicial(coordenadas), getMovimientosValidos(coordenadas), \n",
        "                                      valor_nodo, getCoordenadasValidas(coordenadas)]\n",
        "          index_column += 1\n",
        "      index_row += 1\n",
        "  return dict_estados\n",
        "\n",
        "# Función para calcular el número promedio de variaciones de un estado a otro\n",
        "def getDeltaPolitica(politica_actual, politica_nueva):\n",
        "  Delta = 0\n",
        "  if len(politica_actual) == len(politica_nueva):\n",
        "    n= len(politica_actual)\n",
        "    for i in range(n):\n",
        "      if politica_actual[i] == float('inf') or politica_nueva[i] == float('inf'):\n",
        "        continue\n",
        "      else:\n",
        "        Delta += abs(politica_actual[i]-politica_nueva[i])\n",
        "  Delta=Delta/n\n",
        "  return Delta"
      ],
      "metadata": {
        "id": "ZJpoaa0zHNLF"
      },
      "execution_count": null,
      "outputs": []
    },
    {
      "cell_type": "markdown",
      "source": [
        "### Algoritmo de Iteración de Políticas"
      ],
      "metadata": {
        "id": "2_4ulTELLjO7"
      }
    },
    {
      "cell_type": "code",
      "source": [
        "def Algoritmo_Iteracion_Politica(Gridworld_NotSpaces):\n",
        "  # Se inicializa un diccionario que guardará la información de todos los estados\n",
        "  # string_coordenadas: [valor_id_0, valor_id_1, valor_id_2, valor_id_3, valor_id_4]\n",
        "  # clave: string_coordenadas\n",
        "  # valor: lista de valores que guardan la información del estado\n",
        "  #   valor_id_0: list_coordenadas\n",
        "  #   valor_id_1: chr_accion\n",
        "  #   valor_id_2: list_acciones_permitidas\n",
        "  #   valor_id_3: float_valor\n",
        "  #   valor_id_4: lista_acciones_permitidas_en_coordenadas\n",
        "\n",
        "  # Se construye el diccionario\n",
        "  dict_estados = construir_diccionario(Gridworld_NotSpaces)\n",
        "\n",
        "  ## Se definen los siguientes parámetros:\n",
        "\n",
        "  costo_accion = 1 # Costo de cada accion\n",
        "\n",
        "  valor_final = 0 # Valor del estado final\n",
        "\n",
        "  coordenadas_iniciales = dict_estados[str(getCoordInicial(Gridworld_NotSpaces)[0])+\"-\"+str(getCoordInicial(Gridworld_NotSpaces)[1])][0] #Coordenadas Iniciales\n",
        "\n",
        "  coordenadas_finales = dict_estados[str(getCoordFinal(Gridworld_NotSpaces)[0])+\"-\"+str(getCoordFinal(Gridworld_NotSpaces)[1])][0] #Coordenadas Finales\n",
        "\n",
        "  all_coordinates = all_layers(coordenadas_finales, len(Gridworld_NotSpaces)) # Se construyen las coordenadas\n",
        "\n",
        "  numero_iteraciones = 0 #Se inicializa el contador de número de iteraciones\n",
        "\n",
        "  is_politica_estable = False #Se crea la bandera del iterador\n",
        "\n",
        "  Deltas = []#Se inicializa la lista de los deltas\n",
        "\n",
        "\n",
        "  #######################################\n",
        "  # ALGORITMO DE ITERACIÓN DE POLÍTICAS #\n",
        "  #######################################\n",
        "  inicio = time.time() # Se inicializa el contador\n",
        "  while not(is_politica_estable):\n",
        "    politica_actual = [valor[3] for valor in dict_estados.values()]\n",
        "\n",
        "    # Entramos a las coordenadas resultantes de aplicar la política actual a los estados\n",
        "    for coord in all_coordinates:\n",
        "        #--------------------------------\n",
        "        #| 1. Evaluación de la Política |\n",
        "        #--------------------------------\n",
        "        # Se convierten las coordenadas de tuplas a listas para su editarlas fácilmente\n",
        "        coord = list(coord)\n",
        "\n",
        "        # Se valida que la coordenada no sea un pared ni salga de los límites del grid\n",
        "        if validar_coordenada(coord):\n",
        "          \n",
        "            # Se genera la clave del estado a partir de sus coordenadas para extraer su información \n",
        "            key_coord = str(coord[0]) +'-'+str(coord[1])\n",
        "\n",
        "            # Se obtiene la coordenada del estado siguiente a partir de las coordenadas del estado y su política actual\n",
        "            coord_siguiente_estado = np.array(coord) + np.array(diccionario_movimientos[Gridworld_NotSpaces[coord[0]][coord[1]]])\n",
        "\n",
        "            # Se genera la clave del estado siguiente a partir de sus coordenadas para extraer su información \n",
        "            key_coord_siguiente = str(coord_siguiente_estado[0])+'-'+str(coord_siguiente_estado[1]) \n",
        "\n",
        "            # Se obtiene el valor del estado siguiente a fin de obtener el valor del estado actual\n",
        "            valor_coord_siguiente = dict_estados[key_coord_siguiente][3]\n",
        "\n",
        "            # Se calcula el valor actual del estado según la política\n",
        "            valor_actual_estado = costo_accion + valor_coord_siguiente\n",
        "\n",
        "            # El valor actual se actualiza en el diccionario\n",
        "            dict_estados[key_coord][3] = valor_actual_estado\n",
        "\n",
        "            #----------------------------\n",
        "            #| 2. Mejora de la Política |\n",
        "            #----------------------------\n",
        "            # Se inicializan los políticas posibles del estado en un diccionario temporal\n",
        "            dict_mov_temp=  {('→',(0, 1)): float('inf'), \n",
        "                            ('←',(0, -1)): float('inf'), \n",
        "                            ('↑',(-1,0)): float('inf'), \n",
        "                            ('↓',(1,0)): float('inf')}\n",
        "            \n",
        "\n",
        "            # Se inicializa una lista de valores de estados posibles según un cambio de política \n",
        "            list_valores_posibles = [valor_actual_estado]\n",
        "\n",
        "            # Se iteran con todas los políticas posibles\n",
        "            for otra_politica_key in dict_mov_temp.keys():\n",
        "\n",
        "                # Se obtienen las coordenadas de otro estado a partir de la coordenada actual y la otra política posible\n",
        "                coord_otro_estado = np.array(coord) + np.array(otra_politica_key[1])\n",
        "\n",
        "                # Se valida que la coordenada no sea un pared ni salga de los límites del grid\n",
        "                if validar_coordenada(list(coord_otro_estado)):\n",
        "                    \n",
        "                    # Se genera la clave del otro estado a partir de sus coordenadas\n",
        "                    key_otro_estado = str(coord_otro_estado[0]) + '-'+str(coord_otro_estado[1])\n",
        "                    \n",
        "                    # Se obtiene el valor del estado posible\n",
        "                    valor_otro_estado = dict_estados[key_otro_estado][3]\n",
        "                    \n",
        "                    # Se calcula el valor del estado actual en base al otro estado\n",
        "                    valor_actual_otro_estado = costo_accion + valor_otro_estado\n",
        "                    \n",
        "                    # Se guarda el valor del estado actual en base a otro estado en la lista de valores posibles\n",
        "                    list_valores_posibles.append(valor_actual_otro_estado)\n",
        "\n",
        "                    # Se actualiza el diccionario temporal con el valor actual de la política en base a otro estado\n",
        "                    dict_mov_temp[otra_politica_key] = valor_actual_otro_estado\n",
        "\n",
        "                    # Se obtiene el menor valor de las posibles políticas\n",
        "                    valor_politica_optima = min(list_valores_posibles)\n",
        "\n",
        "            # Con el menor valor, se extrae la mejor politica\n",
        "            politica_optima = list(dict_mov_temp.keys())[list(dict_mov_temp.values()).index(valor_politica_optima)][0]\n",
        "\n",
        "            # Se actualiza el diccionario de los estados con la política óptima y valor de la política óptima \n",
        "            dict_estados[key_coord][1] = politica_optima\n",
        "            dict_estados[key_coord][3] = valor_politica_optima\n",
        "\n",
        "\n",
        "    politica_nueva = [valor[3] for valor in dict_estados.values()]\n",
        "\n",
        "    if politica_actual == politica_nueva:\n",
        "      is_politica_estable = True\n",
        "    else:\n",
        "      numero_iteraciones += 1\n",
        "      Deltas.append(getDeltaPolitica(politica_actual,politica_nueva))\n",
        "  dict_estados[str(coordenadas_iniciales[0])+\"-\"+str(coordenadas_iniciales[1])][1] = estados_iniciales[acciones_validas.index(dict_estados[str(coordenadas_iniciales[0])+\"-\"+str(coordenadas_iniciales[1])][1])]\n",
        "  fin = time.time()\n",
        "  tiempo_transcurrido = fin - inicio\n",
        "  Deltas = Deltas[1:]\n",
        "  print(\"Tiempo transcurrido:\", tiempo_transcurrido, \"segundos\", \"| Número de interaciones: \",numero_iteraciones)\n",
        "  Gridworld_Optimizado = np.array([value[1] for value in dict_estados.values()]).reshape(len(Gridworld_NotSpaces),len(Gridworld_NotSpaces))\n",
        "  return(Gridworld_Optimizado, dict_estados, Deltas, numero_iteraciones, tiempo_transcurrido)"
      ],
      "metadata": {
        "id": "nkBf0cUwVZDE"
      },
      "execution_count": null,
      "outputs": []
    },
    {
      "cell_type": "markdown",
      "source": [
        "### Ejecucion"
      ],
      "metadata": {
        "id": "N2pFpxEcOcZN"
      }
    },
    {
      "cell_type": "code",
      "source": [
        "Gridworld_Optimizado, dict_estados, Deltas, numero_iteraciones, tiempo_transcurrido = Algoritmo_Iteracion_Politica(Gridworld_NotSpaces)"
      ],
      "metadata": {
        "colab": {
          "base_uri": "https://localhost:8080/"
        },
        "id": "I9ahulUMOoTd",
        "outputId": "18e69755-d130-4831-a1b5-2df724340868"
      },
      "execution_count": null,
      "outputs": [
        {
          "output_type": "stream",
          "name": "stdout",
          "text": [
            "Tiempo transcurrido: 0.3173239231109619 segundos | Número de interaciones:  5\n"
          ]
        }
      ]
    },
    {
      "cell_type": "code",
      "source": [
        "for row in Gridworld_Optimizado:\n",
        "    print(''.join(row))"
      ],
      "metadata": {
        "colab": {
          "base_uri": "https://localhost:8080/"
        },
        "id": "84rS-lqzmTas",
        "outputId": "c462eab7-16d4-42ab-d45a-db8ee7f00fc0"
      },
      "execution_count": null,
      "outputs": [
        {
          "output_type": "stream",
          "name": "stdout",
          "text": [
            "→→→→→→→↓→↓→↓←←←←←←←←←←←←←←←←□↓←←←←←←←←←←\n",
            "→→→→→→→↓→↓□↓←←←□↓←←←←←←←←←←←←←←←←←←□↓←←←\n",
            "→↓□→→↓□↓→→↓←←←←←←←←□↓□↓←←←←←←←←□↓□↓←←←←←\n",
            "→→→↓□→→↓→→↓←←□↓←←←←←←←←←←←←←□↓←←←←←←←□↓←\n",
            "□↓□→→→→↓→→↓←←←←←←←←←←←←□↓□↓←←←←←←←←←←←←←\n",
            "→→→→→↓□↓→→↓←←←←←←←□↓←□↓←←←←←←←←←←←←←←←□↓\n",
            "↓□→→→→→↓→→↓←←←←←□↓←←←←←←←←←←←←←□↓←←←←←←←\n",
            "→→↓□→→→↓→→↓←□↓←←←←←□↓←←←←←←□↓←←←←□↓←←←←←\n",
            "→→→→→→→↓→→↓←←←←←□↓←←←←←←□↓←←←←←←←←←←□↓□↓\n",
            "→→→→→→→↓→→↓←□↓←←←←←←←←←←←←←←←←←□↓□↓←←←←←\n",
            "→→→→↓□→↓→→↓←←←□↓←←□↓←←←←←←←←←←←←←←←←←←←←\n",
            "→→→→→→→↓→→↓←←←←←←←←←←□↓←←□↓←←□↓←←←□↓←□↓←\n",
            "→→→→→→→↓□→↓□↓←←□↓←←←←←←←←←←←←←←←←←←←←←←←\n",
            "→↓□→→↓□→↓→↓←←←←←←□↓□↓←←←←←←□↓□↓←←□↓←←←←←\n",
            "→→→→→→→→↓→↓←←←□↓←←←←←←←←□↓←←←←←←←←←←←←□↑\n",
            "□→↓□→→→→↓→↓□↓←←←←←←←□↓←←←←←←←←←←□↑←←←←←←\n",
            "→→→→→→→→↓□↓←←←□↓←←←←←←←←←←←□↑□↑←←←□↓←←←←\n",
            "→→→↓□→→→→↓←←←←←←←←←←←←←←□↑←←←←←←←←←←←←←←\n",
            "→→→→→→→→→G←□↑←←←□↑□↑←□↑←←←←←←□↓←←←←←←←□↑\n",
            "→→↑□→→↑□→↑←←←←←←←←←←←←←←←←←◀←←←←←←←□↑←←←\n",
            "→→→→→→→→→↑←←←←←←←←←←←←←←←←←←←□↑←□↑←←←←←←\n",
            "→→↑□↑□→→→↑←□↑□↑←←←←←←←□↑←□↑□↑←←←←←←←□↑□↑\n",
            "→→→→→→→→↑□↑←←←←←□↑←←←←←←←←←←←←←←←□↑←←←←←\n",
            "→↑□→→→→→↑→↑←□↑□↑←←←←←←←←←←←←←←←←←←←□↑←←←\n",
            "□→→→→→→→↑←□↑←←←←←←←←←←□↑←□↑□↑←←←□↑←←←←←←\n",
            "→→→↑□→→→↑←→↑←←←←□↑←←←←←←←←←←←←←←←←←←←←←←\n",
            "→→→→→↑□→↑←→↑←←←←←←←←←←□↑←←←←←←←←←←←←←←←←\n",
            "→→→→→→→→↑□→↑←□↑←□↑←←←←←←←←←←□↑←←□↑←←←←□↑\n",
            "↑□→→→→→→↑←→↑←←←←←←←←←←←←←←←←←←←←←←□↑□↑←←\n",
            "→→→↑□→→→↑←→↑←←←←←←←←←←←←□↑←←←←□↑←←←←←←←←\n",
            "→→→→→↑□→↑←←□↑←←←←□↑←←←←←←←□↑←←←←←←←←□↑←←\n",
            "→→→→→→→→↑←←→↑□↑←←←←←←←□↑←←←←←←←←←□↑←←←←←\n",
            "↑□↑□→→→→↑←□→↑←←←←←←←←←←←←←←←←□↑←←←←□↑←←←\n",
            "→→→→↑□→↑□↑←→↑□↑←←←□↑←←←←←←←←←←←←←←←←←←←←\n",
            "→→→→→→→↑→↑←→↑←←←□↑←←←□↑□↑←←←←←←←□↑←←←←←←\n",
            "→→↑□↑□→↑→↑←→↑←□↑←←←←←←←←←□↑□↑←←←←←←←□↑←□\n",
            "→→→→→→→↑□↑□→↑←←←←←←←←←□↑←←←←←←←←□↑←←←←←←\n",
            "→→↑□→→→↑→↑←→↑←←←←←←←←←←←←←←←←←□↑←←←←←←←←\n",
            "→→→→→→↑□→↑←→↑←←←←□↑←□↑←←←←←←←←←←←□↑←←←←←\n",
            "→→→→→→↑→→↑←→↑←←←←←←←←←□↑←□↑←←←□↑←←←←←←←←\n"
          ]
        }
      ]
    },
    {
      "cell_type": "code",
      "source": [
        "dict_estados"
      ],
      "metadata": {
        "id": "OtEfTpAJO34N"
      },
      "execution_count": null,
      "outputs": []
    },
    {
      "cell_type": "code",
      "source": [
        "Deltas #Se calculan las deltas para ver el grado de variación entre políticas"
      ],
      "metadata": {
        "id": "SAY7RO_odpwt",
        "outputId": "348628ca-3e90-48c2-e1c5-9b7c9ad8b0b0",
        "colab": {
          "base_uri": "https://localhost:8080/"
        }
      },
      "execution_count": null,
      "outputs": [
        {
          "output_type": "execute_result",
          "data": {
            "text/plain": [
              "[0.52, 0.205, 0.04875, 0.01]"
            ]
          },
          "metadata": {},
          "execution_count": 19
        }
      ]
    },
    {
      "cell_type": "markdown",
      "source": [
        "### Visualización de datos\n",
        "\n",
        "En este apartado se realizan las siguientes tareas:\n",
        "\n",
        "1. Plotear el camino óptimo entre el estado inicial y el estado final.\n"
      ],
      "metadata": {
        "id": "MdZ4b-tLPRcG"
      }
    },
    {
      "cell_type": "code",
      "source": [],
      "metadata": {
        "id": "aQSNf9XXQUk4"
      },
      "execution_count": null,
      "outputs": []
    },
    {
      "cell_type": "markdown",
      "source": [
        "# Experimentos\n",
        "\n",
        "Se harán 18 experimentos del algoritmo con 18 datos de entrada, 9 con el estado inicial fijado y 9 con el estado inicial aleatorizado. Y se realizarán las siguientes actividades:\n",
        "\n",
        "1. Se comparará el tiempo de ejecución en función del tamaño del _GridWorld_ para cada experimento según el tipo de entrada.\n",
        "\n",
        "2. Se comparará la variación del valor de las políticas en función de cada iteración para cada experimento según el tipo de entrada.\n"
      ],
      "metadata": {
        "id": "AaddFY-af5IT"
      }
    },
    {
      "cell_type": "code",
      "source": [
        "\n",
        "list_type_states = [\"FixedGoalInitialState\",\"RandomGoalInitialState\"]\n",
        "# Inicializamos un diccionario que guarda la información de los experimentos\n",
        "dict_experimentos ={}\n",
        "# EXPERIMENTO X-Y:\n",
        "id_type = 1\n",
        "# X: (1)  \"FixedGoalInitialState\" , (2) \"RandomGoalInitialState\"\n",
        "for type_of_state in list_type_states:\n",
        "  #Y: (1)20x20 (2)40x40 (3)60x60  (4)80x80 (5)100x100 (6)120x120 (7)140x140 (8)160x160 (9)180x180\n",
        "  for i in range(1,10):\n",
        "    key_experiment = str(id_type)+\"-\"+str(i)\n",
        "    url = \"https://raw.githubusercontent.com/djsg2021utec/proyecto-1-incertidumbre/main/PoliticasFixedRandom/\"+type_of_state+\"/navigation_\"+str(i)+\".net_grid.txt\"\n",
        "    Gridworld_NotSpaces = LecturaDeDatos(url)\n",
        "    n=len(Gridworld_NotSpaces)\n",
        "    Gridworld_Optimizado, dict_estados, Deltas, numero_iteraciones, tiempo_transcurrido = Algoritmo_Iteracion_Politica(Gridworld_NotSpaces)\n",
        "    List_Elements = [Gridworld_Optimizado, dict_estados, Deltas, numero_iteraciones, tiempo_transcurrido, type_of_state, i]\n",
        "    dict_experimentos[key_experiment] = List_Elements\n",
        "    print(\"Experimento: (\",type_of_state,\",\",i,\") | Tamaño: \",n,\"x\",n,\" | Iteraciones: \", numero_iteraciones, \" | Tiempo(s): \",tiempo_transcurrido)\n",
        "  id_type += 1\n"
      ],
      "metadata": {
        "id": "DXnRZPhAy7ou",
        "outputId": "eca53941-4918-468f-9f18-d1e1c5fdb630",
        "colab": {
          "base_uri": "https://localhost:8080/"
        }
      },
      "execution_count": null,
      "outputs": [
        {
          "output_type": "stream",
          "name": "stdout",
          "text": [
            "Tiempo transcurrido: 0.06041598320007324 segundos | Número de interaciones:  4\n",
            "Experimento: ( FixedGoalInitialState , 1 ) | Tamaño:  20 x 20  | Iteraciones:  4  | Tiempo(s):  0.06041598320007324\n",
            "Tiempo transcurrido: 0.43372535705566406 segundos | Número de interaciones:  7\n",
            "Experimento: ( FixedGoalInitialState , 2 ) | Tamaño:  40 x 40  | Iteraciones:  7  | Tiempo(s):  0.43372535705566406\n",
            "Tiempo transcurrido: 2.041297435760498 segundos | Número de interaciones:  11\n",
            "Experimento: ( FixedGoalInitialState , 3 ) | Tamaño:  60 x 60  | Iteraciones:  11  | Tiempo(s):  2.041297435760498\n",
            "Tiempo transcurrido: 3.076963186264038 segundos | Número de interaciones:  12\n",
            "Experimento: ( FixedGoalInitialState , 4 ) | Tamaño:  80 x 80  | Iteraciones:  12  | Tiempo(s):  3.076963186264038\n",
            "Tiempo transcurrido: 6.917812347412109 segundos | Número de interaciones:  20\n",
            "Experimento: ( FixedGoalInitialState , 5 ) | Tamaño:  100 x 100  | Iteraciones:  20  | Tiempo(s):  6.917812347412109\n",
            "Tiempo transcurrido: 9.290178775787354 segundos | Número de interaciones:  16\n",
            "Experimento: ( FixedGoalInitialState , 6 ) | Tamaño:  120 x 120  | Iteraciones:  16  | Tiempo(s):  9.290178775787354\n",
            "Tiempo transcurrido: 16.48226833343506 segundos | Número de interaciones:  21\n",
            "Experimento: ( FixedGoalInitialState , 7 ) | Tamaño:  140 x 140  | Iteraciones:  21  | Tiempo(s):  16.48226833343506\n",
            "Tiempo transcurrido: 20.499162197113037 segundos | Número de interaciones:  21\n",
            "Experimento: ( FixedGoalInitialState , 8 ) | Tamaño:  160 x 160  | Iteraciones:  21  | Tiempo(s):  20.499162197113037\n",
            "Tiempo transcurrido: 34.560616970062256 segundos | Número de interaciones:  27\n",
            "Experimento: ( FixedGoalInitialState , 9 ) | Tamaño:  180 x 180  | Iteraciones:  27  | Tiempo(s):  34.560616970062256\n",
            "Tiempo transcurrido: 0.05510115623474121 segundos | Número de interaciones:  3\n",
            "Experimento: ( RandomGoalInitialState , 1 ) | Tamaño:  20 x 20  | Iteraciones:  3  | Tiempo(s):  0.05510115623474121\n",
            "Tiempo transcurrido: 0.3377115726470947 segundos | Número de interaciones:  5\n",
            "Experimento: ( RandomGoalInitialState , 2 ) | Tamaño:  40 x 40  | Iteraciones:  5  | Tiempo(s):  0.3377115726470947\n",
            "Tiempo transcurrido: 0.8061704635620117 segundos | Número de interaciones:  6\n",
            "Experimento: ( RandomGoalInitialState , 3 ) | Tamaño:  60 x 60  | Iteraciones:  6  | Tiempo(s):  0.8061704635620117\n",
            "Tiempo transcurrido: 2.0856730937957764 segundos | Número de interaciones:  9\n",
            "Experimento: ( RandomGoalInitialState , 4 ) | Tamaño:  80 x 80  | Iteraciones:  9  | Tiempo(s):  2.0856730937957764\n",
            "Tiempo transcurrido: 6.943037271499634 segundos | Número de interaciones:  17\n",
            "Experimento: ( RandomGoalInitialState , 5 ) | Tamaño:  100 x 100  | Iteraciones:  17  | Tiempo(s):  6.943037271499634\n",
            "Tiempo transcurrido: 9.270933866500854 segundos | Número de interaciones:  14\n",
            "Experimento: ( RandomGoalInitialState , 6 ) | Tamaño:  120 x 120  | Iteraciones:  14  | Tiempo(s):  9.270933866500854\n",
            "Tiempo transcurrido: 12.187470197677612 segundos | Número de interaciones:  16\n",
            "Experimento: ( RandomGoalInitialState , 7 ) | Tamaño:  140 x 140  | Iteraciones:  16  | Tiempo(s):  12.187470197677612\n",
            "Tiempo transcurrido: 23.720131158828735 segundos | Número de interaciones:  24\n",
            "Experimento: ( RandomGoalInitialState , 8 ) | Tamaño:  160 x 160  | Iteraciones:  24  | Tiempo(s):  23.720131158828735\n",
            "Tiempo transcurrido: 26.01890802383423 segundos | Número de interaciones:  21\n",
            "Experimento: ( RandomGoalInitialState , 9 ) | Tamaño:  180 x 180  | Iteraciones:  21  | Tiempo(s):  26.01890802383423\n"
          ]
        }
      ]
    },
    {
      "cell_type": "code",
      "source": [
        "import matplotlib.pyplot as plt\n",
        "\n",
        "x = list(dict_estados.va)\n",
        "\n",
        "plt.xlabel('Índice')\n",
        "plt.ylabel('Valores')\n",
        "plt.title('Gráfico de dos listas')\n",
        "plt.show()"
      ],
      "metadata": {
        "id": "GMCL_AYde8Ym",
        "outputId": "b3228080-216c-409a-9389-990c89dca587",
        "colab": {
          "base_uri": "https://localhost:8080/",
          "height": 472
        }
      },
      "execution_count": null,
      "outputs": [
        {
          "output_type": "display_data",
          "data": {
            "text/plain": [
              "<Figure size 640x480 with 1 Axes>"
            ],
            "image/png": "[encoded data removed]"
          },
          "metadata": {}
        }
      ]
    }
  ]
}