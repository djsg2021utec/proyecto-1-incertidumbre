{
  "nbformat": 4,
  "nbformat_minor": 0,
  "metadata": {
    "colab": {
      "provenance": []
    },
    "kernelspec": {
      "name": "python3",
      "display_name": "Python 3"
    },
    "language_info": {
      "name": "python"
    }
  },
  "cells": [
    {
      "cell_type": "code",
      "execution_count": 104,
      "metadata": {
        "id": "ZemdUeQK5uYI",
        "colab": {
          "base_uri": "https://localhost:8080/"
        },
        "outputId": "00ee362b-f405-4eb8-e6f8-86ea7e0f566a"
      },
      "outputs": [
        {
          "output_type": "stream",
          "name": "stdout",
          "text": [
            "Shape: [20, 20]\r\n",
            "\r\n",
            "↓ ← ← ← ← ← ← ← ← ← ← ↓ ↓ ↓ ↓ ↓ ↓ ↓ □ G \r\n",
            "↓ □ ↑ ↑ ↑ □ ↑ ↑ ↑ ↓ □ → → → → → → → → ↑ \r\n",
            "↓ ← ↓ ↓ ↓ ↓ ↓ ↓ □ → → ↑ ↑ □ ↑ ↑ □ ↑ ↑ ↑ \r\n",
            "↓ □ → → → → → → → ↑ ↑ ↑ → → → → ↓ ↓ ← ← \r\n",
            "→ → ↑ ↑ ↑ □ ↑ ↑ ↑ ↑ → → ↑ □ ↑ □ → ↓ ↓ ↓ \r\n",
            "↑ ↑ ↑ □ ↓ ↓ ↓ ↓ ↓ □ ↓ ↓ ↓ ↓ ↓ ↓ ↓ → → ↓ \r\n",
            "↑ ← ← ← ← ← ← ← ← ← ← ← ← ← ← ← ← □ ↓ ↓ \r\n",
            "↑ ↑ □ ↑ □ ↑ ↑ ↑ □ ↑ ↑ ↑ ↑ ↑ ↑ ↑ ↑ ← ← ← \r\n",
            "↓ ↓ ← ← ← ← ← ← ← ← □ ↓ ← ↓ ↓ □ ↑ ↑ □ ↑ \r\n",
            "→ ↓ ↓ ↓ ↓ ↓ ↓ ↓ ↓ ↓ ↓ ↓ □ → → → → → → ↑ \r\n",
            "□ → → → → → → → → → → → → ↑ ↑ □ ↑ ↑ □ ↑ \r\n",
            "→ ↑ ↑ ↑ ↑ ↑ ↑ ↑ ↑ ↑ □ ↑ ↑ ↑ → → → → → ↓ \r\n",
            "↑ ↑ ↓ ↓ □ ↓ ↓ ↓ ↓ ↓ ↓ ↓ □ ↓ □ ↓ ↓ ↓ ↓ ↓ \r\n",
            "↑ ← ← ← ← ← ← ← ← ← ← ← ← ← ← ← ← ← ← ← \r\n",
            "↑ ↑ ↑ ↑ ↑ ↑ ↑ ↑ □ ↑ ↑ ↑ ↑ ↑ ↑ ↑ ↑ ↑ ↑ ↑ \r\n",
            "↓ ↓ ↓ ↓ ↓ □ → → → → → → → → → → → → → ↑ \r\n",
            "→ → → → → → ↑ □ ↑ ↑ ↑ □ ↑ ↑ □ ↑ ↑ ↑ ↑ ↑ \r\n",
            "↑ ↑ ↑ □ ↑ ↑ ↑ ↓ ↓ ↓ → → → → → → → → → ↓ \r\n",
            "↑ ← ← ← ← ← ← ← ← ← □ ↓ □ ↓ ↓ ↓ □ ↓ ↓ ↓ \r\n",
            "▲ ↑ □ ↑ ↑ □ ↑ ↑ □ ↑ ← ← ← ← ← ← ← ← ← ← \r\n",
            "\n"
          ]
        }
      ],
      "source": [
        "# FIXED INICIAL STATE\n",
        "\n",
        "# Grid 4x4: prueba4x4.net_grid.txt (Prueba)\n",
        "# Grid 20x20: navigation_1.net_grid.txt\n",
        "# Grid 40x40: navigation_2.net_grid.txt\n",
        "# Grid 60x60: navigation_3.net_grid.txt\n",
        "# Grid 80x80: navigation_4.net_grid.txt\n",
        "# Grid 100x100: navigation_5.net_grid.txt\n",
        "# Grid 120x120: navigation_6.net_grid.txt\n",
        "\n",
        "# RANDOM INICIAL STATE\n",
        "\n",
        "# https://raw.githubusercontent.com/djsg2021utec/proyecto-1-incertidumbre/main/PoliticasFixedRandom/RandomGoalInitialState/navigation_1.net_grid.txt # Gustavo terminar\n",
        "\n",
        "\n",
        "import requests\n",
        "url=\"https://raw.githubusercontent.com/djsg2021utec/proyecto-1-incertidumbre/main/PoliticasFixedRandom/FixedGoalInitialState/navigation_1.net_grid.txt\"\n",
        "response = requests.get(url)\n",
        "fileContent = response.text\n",
        "print(fileContent)"
      ]
    },
    {
      "cell_type": "code",
      "source": [
        "# Se quitan los elementos innecesarios del archivo y se crea una lista con strings con las mismas dimensiones y sin espacios (GridWorld_NotSpaces)\n",
        "type(fileContent)\n",
        "fileContentSplitted = fileContent.split(\"\\n\")\n",
        "Gridworld=fileContentSplitted[2:-1]\n",
        "def RemoveSpace(StringWorld):\n",
        "    StringWorld=StringWorld.replace(\" \",\"\")\n",
        "    return StringWorld\n",
        "\n",
        "result = map(RemoveSpace,Gridworld)\n",
        "Gridworld_NotSpaces = list(result)\n",
        "\n",
        "for rows in Gridworld_NotSpaces:\n",
        "  print(rows)"
      ],
      "metadata": {
        "colab": {
          "base_uri": "https://localhost:8080/"
        },
        "id": "5jgrW1MOFfvv",
        "outputId": "7b09b995-f54d-448b-e713-9f0994de7ffb"
      },
      "execution_count": 105,
      "outputs": [
        {
          "output_type": "stream",
          "name": "stdout",
          "text": [
            "↓←←←←←←←←←←↓↓↓↓↓↓↓□G\r\n",
            "↓□↑↑↑□↑↑↑↓□→→→→→→→→↑\r\n",
            "↓←↓↓↓↓↓↓□→→↑↑□↑↑□↑↑↑\r\n",
            "↓□→→→→→→→↑↑↑→→→→↓↓←←\r\n",
            "→→↑↑↑□↑↑↑↑→→↑□↑□→↓↓↓\r\n",
            "↑↑↑□↓↓↓↓↓□↓↓↓↓↓↓↓→→↓\r\n",
            "↑←←←←←←←←←←←←←←←←□↓↓\r\n",
            "↑↑□↑□↑↑↑□↑↑↑↑↑↑↑↑←←←\r\n",
            "↓↓←←←←←←←←□↓←↓↓□↑↑□↑\r\n",
            "→↓↓↓↓↓↓↓↓↓↓↓□→→→→→→↑\r\n",
            "□→→→→→→→→→→→→↑↑□↑↑□↑\r\n",
            "→↑↑↑↑↑↑↑↑↑□↑↑↑→→→→→↓\r\n",
            "↑↑↓↓□↓↓↓↓↓↓↓□↓□↓↓↓↓↓\r\n",
            "↑←←←←←←←←←←←←←←←←←←←\r\n",
            "↑↑↑↑↑↑↑↑□↑↑↑↑↑↑↑↑↑↑↑\r\n",
            "↓↓↓↓↓□→→→→→→→→→→→→→↑\r\n",
            "→→→→→→↑□↑↑↑□↑↑□↑↑↑↑↑\r\n",
            "↑↑↑□↑↑↑↓↓↓→→→→→→→→→↓\r\n",
            "↑←←←←←←←←←□↓□↓↓↓□↓↓↓\r\n",
            "▲↑□↑↑□↑↑□↑←←←←←←←←←←\r\n"
          ]
        }
      ]
    },
    {
      "cell_type": "code",
      "source": [
        "# Se definen las acciones validas, estados iniciales, estado final y un diccionario de movimientos\n",
        "acciones_validas = ['→','←','↑','↓','□']\n",
        "estados_iniciales = [ '▶','◀','▲','▼'] # ▲\n",
        "estado_final = 'G'\n",
        "diccionario_movimientos = {'→': [0, 1], '←':[0, -1], '↑': [-1, 0], '↓':[1, 0],\n",
        "                           '▶': [0, 1], '◀':[0, -1] ,'▲':[-1, 0], '▼': [1, 0]}\n"
      ],
      "metadata": {
        "id": "nzS-UXB-VGpE"
      },
      "execution_count": 106,
      "outputs": []
    },
    {
      "cell_type": "code",
      "source": [
        "# Se importan librerías para una manejo más fácil\n",
        "import numpy as np\n",
        "import time\n",
        "\n",
        "# Funciones para definir parámetros geométricos en el Grid\n",
        "def horizontal_line(begin, end, y):\n",
        "    return [(i, y) for i in range(begin, end, (1 if end > begin else -1))]\n",
        "\n",
        "def vertical_line(begin, end, x):\n",
        "    return [(x, i) for i in range(begin, end, (1 if end > begin else -1))]\n",
        "\n",
        "def layer(center, level):\n",
        "    center_x, center_y = center\n",
        "    right_bottom = vertical_line(center_y, center_y + level, center_x + level)\n",
        "    bottom_line = horizontal_line(center_x + level, center_x - level, center_y + level)\n",
        "    left_line = vertical_line(center_y + level, center_y - level, center_x - level)\n",
        "    top_line = horizontal_line(center_x - level, center_x + level, center_y - level)\n",
        "    right_top = vertical_line(center_y-level, center_y, center_x + level)\n",
        "\n",
        "    return right_bottom + bottom_line + left_line + top_line + right_top\n",
        "\n",
        "def layers(center, number_levels):\n",
        "    return [layer(center, level) for level in range(1, number_levels)]\n",
        "\n",
        "def all_layers(center, number_levels):\n",
        "    return [cell for single_layer in layers(center, number_levels) for cell in single_layer]\n",
        "\n",
        "# Función para validar una coordenada\n",
        "def validar_coordenada(coordenada_in):\n",
        "    if coordenada_in[0] >=0 and coordenada_in[1] < len(Gridworld_NotSpaces):\n",
        "        if coordenada_in[1] >= 0 and coordenada_in[0] < len(Gridworld_NotSpaces):\n",
        "            if Gridworld_NotSpaces[coordenada_in[0]][coordenada_in[1]] != \"□\":\n",
        "                return True\n",
        "    \n",
        "    return False\n",
        "\n",
        "# Función para obtener coordenadas validas vecinas para un estado\n",
        "def getCoordenadasValidas(coordendas_in):\n",
        "    coordenadas_vecinas = []\n",
        "    coord_up = [coordendas_in[0] - 1, coordendas_in[1]]\n",
        "    coord_down = [coordendas_in[0] + 1, coordendas_in[1]]\n",
        "    coord_right = [coordendas_in[0], coordendas_in[1] + 1]\n",
        "    coord_left = [coordendas_in[0], coordendas_in[1] - 1]\n",
        "    \n",
        "    # arriba\n",
        "    if validar_coordenada(coord_up):\n",
        "        if Gridworld_NotSpaces[coord_up[0]][coord_up[1]] != \"□\":\n",
        "            coordenadas_vecinas.append(coord_up)\n",
        "\n",
        "    # abajo\n",
        "    if validar_coordenada(coord_down):\n",
        "        if Gridworld_NotSpaces[coord_down[0]][coord_down[1]] != \"□\":\n",
        "            coordenadas_vecinas.append(coord_down)\n",
        "\n",
        "    # derecha\n",
        "    if validar_coordenada(coord_right):\n",
        "        if Gridworld_NotSpaces[coord_right[0]][coord_right[1]] != \"□\":\n",
        "            coordenadas_vecinas.append(coord_right)\n",
        "\n",
        "    # izquierda   \n",
        "    if validar_coordenada(coord_left):\n",
        "        if Gridworld_NotSpaces[coord_left[0]][coord_left[1]] != \"□\":\n",
        "            coordenadas_vecinas.append(coord_right)\n",
        "\n",
        "    return coordenadas_vecinas\n",
        "\n",
        "# Función para obtener el valor inicial para cada estado\n",
        "def getAccionInicial(coordenadas_in):\n",
        "    if Gridworld_NotSpaces[coordenadas_in[0]][coordenadas_in[1]] != \"□\":\n",
        "        return Gridworld_NotSpaces[coordenadas_in[0]][coordenadas_in[1]]\n",
        "    return Gridworld_NotSpaces[coordenadas_in[0]][coordenadas_in[1]]\n",
        "\n",
        "# Función para obtener coordenadas validas vecinas para un estado\n",
        "def getMovimientosValidos(coordendas_in):\n",
        "    movimientos_validos = []\n",
        "    coord_up = [coordendas_in[0] - 1, coordendas_in[1]]\n",
        "    coord_down = [coordendas_in[0] + 1, coordendas_in[1]]\n",
        "    coord_right = [coordendas_in[0], coordendas_in[1] + 1]\n",
        "    coord_left = [coordendas_in[0], coordendas_in[1] - 1]\n",
        "    \n",
        "    # arriba\n",
        "    if validar_coordenada(coord_up):\n",
        "        if Gridworld_NotSpaces[coord_up[0]][coord_up[1]] != \"□\":\n",
        "            movimientos_validos.append(Gridworld_NotSpaces[coord_up[0]][coord_up[1]])\n",
        "\n",
        "    # abajo\n",
        "    if validar_coordenada(coord_down):\n",
        "        if Gridworld_NotSpaces[coord_down[0]][coord_down[1]] != \"□\":\n",
        "            movimientos_validos.append(Gridworld_NotSpaces[coord_down[0]][coord_down[1]])\n",
        "\n",
        "    # derecha\n",
        "    if validar_coordenada(coord_right):\n",
        "        if Gridworld_NotSpaces[coord_right[0]][coord_right[1]] != \"□\":\n",
        "            movimientos_validos.append(Gridworld_NotSpaces[coord_right[0]][coord_right[1]])\n",
        "\n",
        "    # izquierda   \n",
        "    if validar_coordenada(coord_left):\n",
        "        if Gridworld_NotSpaces[coord_left[0]][coord_left[1]] != \"□\":\n",
        "            movimientos_validos.append(Gridworld_NotSpaces[coord_left[0]][coord_left[1]])\n",
        "\n",
        "    return movimientos_validos\n",
        "\n",
        "# Función para construir el diccionario para todos los estados del GridWorld\n",
        "def construir_diccionario(Gridworld_NotSpaces):\n",
        "  dict_estados = {}\n",
        "  index_row = 0\n",
        "  for i in range(len(Gridworld_NotSpaces)):\n",
        "      index_column = 0\n",
        "      for j in range(len(Gridworld_NotSpaces)):\n",
        "          valor_nodo = float(\"inf\")\n",
        "          dict_key = str(index_row) +\"-\" +str(index_column)\n",
        "          coordenadas = [index_row, index_column]\n",
        "          if Gridworld_NotSpaces[index_row][index_column] == \"G\":\n",
        "              #dict_key = \"EstadoFinal\" \n",
        "              valor_nodo = 0\n",
        "          dict_estados[dict_key] = [coordenadas, getAccionInicial(coordenadas), getMovimientosValidos(coordenadas), \n",
        "                                      valor_nodo, getCoordenadasValidas(coordenadas)]\n",
        "          index_column += 1\n",
        "      index_row += 1\n",
        "  return dict_estados"
      ],
      "metadata": {
        "id": "ZJpoaa0zHNLF"
      },
      "execution_count": 107,
      "outputs": []
    },
    {
      "cell_type": "code",
      "source": [
        "# Se inicializa un diccionario que guardará la información de todos los estados\n",
        "# string_coordenadas: [valor_id_0, valor_id_1, valor_id_2, valor_id_3, valor_id_4]\n",
        "# clave: string_coordenadas\n",
        "# valor: lista de valores que guardan la información del estado\n",
        "#   valor_id_0: list_coordenadas\n",
        "#   valor_id_1: chr_accion\n",
        "#   valor_id_2: list_acciones_permitidas\n",
        "#   valor_id_3: float_valor\n",
        "#   valor_id_4: lista_acciones_permitidas_en_coordenadas\n",
        "\n",
        "\n",
        "# Se construye el diccionario\n",
        "dict_estados = construir_diccionario(Gridworld_NotSpaces)"
      ],
      "metadata": {
        "id": "nkBf0cUwVZDE"
      },
      "execution_count": 108,
      "outputs": []
    },
    {
      "cell_type": "code",
      "source": [
        "## Se definen los parámetros\n",
        "costo_accion = 1 # Costo de cada accion\n",
        "valor_final = 0 # Valor del estado final\n",
        "limite_superior = str(len(Gridworld_NotSpaces)-1) #Límite superior para el diccionario de estados\n",
        "coordenadas_finales = dict_estados[\"0-\"+limite_superior][0] #Las coordendas finales"
      ],
      "metadata": {
        "id": "5gQBSfjJVmLr"
      },
      "execution_count": 109,
      "outputs": []
    },
    {
      "cell_type": "code",
      "source": [
        "\n",
        "inicio = time.time()\n",
        "\n",
        "all_coordinates = all_layers(coordenadas_finales, len(Gridworld_NotSpaces))\n",
        "numero_iteraciones = 0\n",
        "\n",
        "is_politica_estable = False\n",
        "\n",
        "while not(is_politica_estable):\n",
        "  politica_actual = [valor[3] for valor in dict_estados.values()]\n",
        "\n",
        "  # Entramos a las coordenadas resultantes de aplicar la política actual a los estados\n",
        "  for coord in all_coordinates:\n",
        "      #--------------------------------\n",
        "      #| 1. Evaluación de la Política |\n",
        "      #--------------------------------\n",
        "      # Se convierten las coordenadas de tuplas a listas para su editarlas fácilmente\n",
        "      coord = list(coord)\n",
        "\n",
        "      # Se valida que la coordenada no sea un pared ni salga de los límites del grid\n",
        "      if validar_coordenada(coord):\n",
        "        \n",
        "          # Se genera la clave del estado a partir de sus coordenadas para extraer su información \n",
        "          key_coord = str(coord[0]) +'-'+str(coord[1])\n",
        "\n",
        "          # Se obtiene la coordenada del estado siguiente a partir de las coordenadas del estado y su política actual\n",
        "          coord_siguiente_estado = np.array(coord) + np.array(diccionario_movimientos[Gridworld_NotSpaces[coord[0]][coord[1]]])\n",
        "\n",
        "          # Se genera la clave del estado siguiente a partir de sus coordenadas para extraer su información \n",
        "          key_coord_siguiente = str(coord_siguiente_estado[0])+'-'+str(coord_siguiente_estado[1]) \n",
        "\n",
        "          # Se obtiene el valor del estado siguiente a fin de obtener el valor del estado actual\n",
        "          valor_coord_siguiente = dict_estados[key_coord_siguiente][3]\n",
        "\n",
        "          # Se calcula el valor actual del estado según la política\n",
        "          valor_actual_estado = costo_accion + valor_coord_siguiente\n",
        "\n",
        "          # El valor actual se actualiza en el diccionario\n",
        "          dict_estados[key_coord][3] = valor_actual_estado\n",
        "\n",
        "          #----------------------------\n",
        "          #| 2. Mejora de la Política |\n",
        "          #----------------------------\n",
        "          # Se inicializan los políticas posibles del estado en un diccionario temporal\n",
        "          dict_mov_temp=  {('→',(0, 1)): float('inf'), \n",
        "                          ('←',(0, -1)): float('inf'), \n",
        "                          ('↑',(-1,0)): float('inf'), \n",
        "                          ('↓',(1,0)): float('inf')}\n",
        "          \n",
        "\n",
        "          # Se inicializa una lista de valores de estados posibles según un cambio de política \n",
        "          list_valores_posibles = [valor_actual_estado]\n",
        "\n",
        "          # Se iteran con todas los políticas posibles\n",
        "          for otra_politica_key in dict_mov_temp.keys():\n",
        "\n",
        "              # Se obtienen las coordenadas de otro estado a partir de la coordenada actual y la otra política posible\n",
        "              coord_otro_estado = np.array(coord) + np.array(otra_politica_key[1])\n",
        "\n",
        "              # Se valida que la coordenada no sea un pared ni salga de los límites del grid\n",
        "              if validar_coordenada(list(coord_otro_estado)):\n",
        "                  \n",
        "                  # Se genera la clave del otro estado a partir de sus coordenadas\n",
        "                  key_otro_estado = str(coord_otro_estado[0]) + '-'+str(coord_otro_estado[1])\n",
        "                  \n",
        "                  # Se obtiene el valor del estado posible\n",
        "                  valor_otro_estado = dict_estados[key_otro_estado][3]\n",
        "                  \n",
        "                  # Se calcula el valor del estado actual en base al otro estado\n",
        "                  valor_actual_otro_estado = costo_accion + valor_otro_estado\n",
        "                  \n",
        "                  # Se guarda el valor del estado actual en base a otro estado en la lista de valores posibles\n",
        "                  list_valores_posibles.append(valor_actual_otro_estado)\n",
        "\n",
        "                  # Se actualiza el diccionario temporal con el valor actual de la política en base a otro estado\n",
        "                  dict_mov_temp[otra_politica_key] = valor_actual_otro_estado\n",
        "\n",
        "                  # Se obtiene el menor valor de las posibles políticas\n",
        "                  valor_politica_optima = min(list_valores_posibles)\n",
        "\n",
        "          # Con el menor valor, se extrae la mejor politica\n",
        "          politica_optima = list(dict_mov_temp.keys())[list(dict_mov_temp.values()).index(valor_politica_optima)][0]\n",
        "\n",
        "          # Se actualiza el diccionario de los estados con la política óptima y valor de la política óptima \n",
        "          dict_estados[key_coord][1] = politica_optima\n",
        "          dict_estados[key_coord][3] = valor_politica_optima\n",
        "\n",
        "\n",
        "  politica_nueva = [valor[3] for valor in dict_estados.values()]\n",
        "\n",
        "  if politica_actual == politica_nueva:\n",
        "    is_politica_estable = True\n",
        "  else:\n",
        "    numero_iteraciones += 1\n",
        "\n",
        "fin = time.time()\n",
        "tiempo_transcurrido = fin - inicio\n",
        "\n",
        "print(\"Tiempo transcurrido:\", tiempo_transcurrido, \"segundos\", \"| Número de interaciones: \",numero_iteraciones)"
      ],
      "metadata": {
        "colab": {
          "base_uri": "https://localhost:8080/"
        },
        "id": "PpcT9y9OWtd8",
        "outputId": "23cd259c-ca38-4756-d7c6-5a0cc0e16d6f"
      },
      "execution_count": 110,
      "outputs": [
        {
          "output_type": "stream",
          "name": "stdout",
          "text": [
            "Tiempo transcurrido: 0.08129715919494629 segundos | Número de interaciones:  4\n"
          ]
        }
      ]
    },
    {
      "cell_type": "code",
      "source": [
        "for rows in Gridworld_NotSpaces:\n",
        "  print(rows)"
      ],
      "metadata": {
        "colab": {
          "base_uri": "https://localhost:8080/"
        },
        "id": "84rS-lqzmTas",
        "outputId": "c1226606-cb7c-457c-e35f-ec8d285f455a"
      },
      "execution_count": 111,
      "outputs": [
        {
          "output_type": "stream",
          "name": "stdout",
          "text": [
            "↓←←←←←←←←←←↓↓↓↓↓↓↓□G\r\n",
            "↓□↑↑↑□↑↑↑↓□→→→→→→→→↑\r\n",
            "↓←↓↓↓↓↓↓□→→↑↑□↑↑□↑↑↑\r\n",
            "↓□→→→→→→→↑↑↑→→→→↓↓←←\r\n",
            "→→↑↑↑□↑↑↑↑→→↑□↑□→↓↓↓\r\n",
            "↑↑↑□↓↓↓↓↓□↓↓↓↓↓↓↓→→↓\r\n",
            "↑←←←←←←←←←←←←←←←←□↓↓\r\n",
            "↑↑□↑□↑↑↑□↑↑↑↑↑↑↑↑←←←\r\n",
            "↓↓←←←←←←←←□↓←↓↓□↑↑□↑\r\n",
            "→↓↓↓↓↓↓↓↓↓↓↓□→→→→→→↑\r\n",
            "□→→→→→→→→→→→→↑↑□↑↑□↑\r\n",
            "→↑↑↑↑↑↑↑↑↑□↑↑↑→→→→→↓\r\n",
            "↑↑↓↓□↓↓↓↓↓↓↓□↓□↓↓↓↓↓\r\n",
            "↑←←←←←←←←←←←←←←←←←←←\r\n",
            "↑↑↑↑↑↑↑↑□↑↑↑↑↑↑↑↑↑↑↑\r\n",
            "↓↓↓↓↓□→→→→→→→→→→→→→↑\r\n",
            "→→→→→→↑□↑↑↑□↑↑□↑↑↑↑↑\r\n",
            "↑↑↑□↑↑↑↓↓↓→→→→→→→→→↓\r\n",
            "↑←←←←←←←←←□↓□↓↓↓□↓↓↓\r\n",
            "▲↑□↑↑□↑↑□↑←←←←←←←←←←\r\n"
          ]
        }
      ]
    },
    {
      "cell_type": "code",
      "source": [
        "Gridworld_Optimizado = np.array([value[1] for value in dict_estados.values()]).reshape(len(Gridworld_NotSpaces),len(Gridworld_NotSpaces))\n",
        "for row in Gridworld_Optimizado:\n",
        "    print(''.join(row))"
      ],
      "metadata": {
        "colab": {
          "base_uri": "https://localhost:8080/"
        },
        "id": "oFW9wRJ0Xk3R",
        "outputId": "747a9302-6d00-42bf-da9a-9ef562b5aac0"
      },
      "execution_count": 112,
      "outputs": [
        {
          "output_type": "stream",
          "name": "stdout",
          "text": [
            "→→→→→→→→→→→→→→→→→↓□G\n",
            "↑□→→↑□→→→↑□→→→→→→→→↑\n",
            "→→→→→→→↑□→→→↑□→↑□→→↑\n",
            "↑□→→→→→→→→→→→→→→→→→↑\n",
            "→→→→↑□→→→→→→↑□↑□→→→↑\n",
            "→→↑□→→→→↑□→→→→→→→→→↑\n",
            "→→→→→→→→→→→→→→→→↑□→↑\n",
            "→↑□↑□→→↑□→→→→→→→→→→↑\n",
            "→→→→→→→→→↑□→→→↑□→↑□↑\n",
            "→→→→→→→→→→→↑□→→→→→→↑\n",
            "□→→→→→→→→→→→→→↑□→↑□↑\n",
            "→→→→→→→→→↑□→→→→→→→→↑\n",
            "→→→↑□→→→→→→↑□↑□→→→→↑\n",
            "→→→→→→→→→→→→→→→→→→→↑\n",
            "→→→→→→→↑□→→→→→→→→→→↑\n",
            "→→→→↑□→→→→→→→→→→→→→↑\n",
            "→→→→→→↑□→→↑□→↑□→→→→↑\n",
            "→→↑□→→→→→→→→→→→→→→→↑\n",
            "→→→→→→→→→↑□↑□→→↑□→→↑\n",
            "→↑□→↑□→↑□→→→→→→→→→→↑\n"
          ]
        }
      ]
    }
  ]
}